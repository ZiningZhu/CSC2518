{
 "cells": [
  {
   "cell_type": "markdown",
   "metadata": {},
   "source": [
    "# Data analysis\n",
    "How many files are there in LibriSpeech splits for VoicePrivacy challenge?"
   ]
  },
  {
   "cell_type": "code",
   "execution_count": 2,
   "metadata": {},
   "outputs": [],
   "source": [
    "%matplotlib inline\n",
    "from pathlib import Path\n",
    "import numpy as np \n",
    "import matplotlib.pyplot as plt\n",
    "import time"
   ]
  },
  {
   "cell_type": "code",
   "execution_count": 8,
   "metadata": {},
   "outputs": [],
   "source": [
    "import torchaudio \n",
    "from speechbrain.dataio.preprocess import AudioNormalizer\n",
    "\n",
    "def load_audio(path):\n",
    "    signal, sr = torchaudio.load(path, channels_first=False)\n",
    "    return AudioNormalizer()(signal, sr)"
   ]
  },
  {
   "cell_type": "code",
   "execution_count": 17,
   "metadata": {},
   "outputs": [],
   "source": [
    "base_dir = \"../data/LibriSpeech\"\n",
    "\n",
    "def count_audiofile_stats(split_name=\"test-clean\"):\n",
    "    all_speaker_audio_lens = []\n",
    "    total_time = 0\n",
    "    num_utterances = 0\n",
    "    for speaker in Path(base_dir, split_name).iterdir():\n",
    "        if not speaker.is_dir(): \n",
    "            continue \n",
    "        \n",
    "        audio_lengths = []\n",
    "        for session in speaker.iterdir():\n",
    "            if not session.is_dir():\n",
    "                continue \n",
    "            \n",
    "            for utt in session.iterdir():\n",
    "                if not str(utt).endswith(\"flac\"):\n",
    "                    continue \n",
    "                #print(\"Speaker: {}, session: {}, utterance: {}, filename: {}\".format(speaker.name, session.name, utt.name, utt))\n",
    "\n",
    "                signal, sr = torchaudio.load(str(utt), channels_first=False)\n",
    "                #print(\"sr=\", sr)  # 16k\n",
    "                #print(\"signal.shape\", signal.shape) # (N,1)\n",
    "                audio_len = signal.size(0) / sr  # in seconds\n",
    "                audio_lengths.append(audio_len)\n",
    "\n",
    "                total_time += audio_len \n",
    "                num_utterances += 1\n",
    "            \n",
    "        speaker_avg_len = np.mean(audio_lengths)\n",
    "        all_speaker_audio_lens.append(speaker_avg_len)\n",
    "\n",
    "    print (\"Speaker number: {}\".format(len(all_speaker_audio_lens)))\n",
    "    print (\"There are {} utterances; up to {:.2f} hours\".format(\n",
    "        num_utterances, total_time / 3600.0))\n",
    "\n",
    "    return all_speaker_audio_lens"
   ]
  },
  {
   "cell_type": "code",
   "execution_count": 18,
   "metadata": {},
   "outputs": [
    {
     "name": "stdout",
     "output_type": "stream",
     "text": [
      "Speaker number: 40\n",
      "There are 2620 utterances; up to 5.40 hours\n"
     ]
    },
    {
     "data": {
      "text/plain": [
       "Text(0, 0.5, 'Occurrence')"
      ]
     },
     "execution_count": 18,
     "metadata": {},
     "output_type": "execute_result"
    },
    {
     "data": {
      "image/png": "[encoded data removed]",
      "text/plain": [
       "<Figure size 432x288 with 1 Axes>"
      ]
     },
     "metadata": {
      "needs_background": "light"
     },
     "output_type": "display_data"
    }
   ],
   "source": [
    "all_speaker_audio_lens = count_audiofile_stats(\"test-clean\")  # 5.1s\n",
    "plt.hist(all_speaker_audio_lens, bins=20)\n",
    "plt.xlabel(\"Utterance time (s)\")\n",
    "plt.ylabel(\"Occurrence\")"
   ]
  },
  {
   "cell_type": "code",
   "execution_count": 19,
   "metadata": {},
   "outputs": [
    {
     "name": "stdout",
     "output_type": "stream",
     "text": [
      "Speaker number: 40\n",
      "There are 2703 utterances; up to 5.39 hours\n"
     ]
    },
    {
     "data": {
      "text/plain": [
       "Text(0, 0.5, 'Occurrence')"
      ]
     },
     "execution_count": 19,
     "metadata": {},
     "output_type": "execute_result"
    },
    {
     "data": {
      "image/png": "[encoded data removed]",
      "text/plain": [
       "<Figure size 432x288 with 1 Axes>"
      ]
     },
     "metadata": {
      "needs_background": "light"
     },
     "output_type": "display_data"
    }
   ],
   "source": [
    "all_speaker_audio_lens = count_audiofile_stats(\"dev-clean\")  # 5.1s\n",
    "plt.hist(all_speaker_audio_lens, bins=20)\n",
    "plt.xlabel(\"Utterance time (s)\")\n",
    "plt.ylabel(\"Occurrence\")"
   ]
  },
  {
   "cell_type": "code",
   "execution_count": 20,
   "metadata": {},
   "outputs": [
    {
     "name": "stdout",
     "output_type": "stream",
     "text": [
      "Speaker number: 251\n",
      "There are 28539 utterances; up to 100.59 hours\n"
     ]
    },
    {
     "data": {
      "text/plain": [
       "Text(0, 0.5, 'Occurrence')"
      ]
     },
     "execution_count": 20,
     "metadata": {},
     "output_type": "execute_result"
    },
    {
     "data": {
      "image/png": "[encoded data removed]",
      "text/plain": [
       "<Figure size 432x288 with 1 Axes>"
      ]
     },
     "metadata": {
      "needs_background": "light"
     },
     "output_type": "display_data"
    }
   ],
   "source": [
    "all_speaker_audio_lens = count_audiofile_stats(\"train-clean-100\")  # 1 min 28.5s\n",
    "plt.hist(all_speaker_audio_lens, bins=20)\n",
    "plt.xlabel(\"Utterance time (s)\")\n",
    "plt.ylabel(\"Occurrence\")"
   ]
  },
  {
   "cell_type": "code",
   "execution_count": null,
   "metadata": {},
   "outputs": [],
   "source": []
  }
 ],
 "metadata": {
  "interpreter": {
   "hash": "3c245645368b405f9e41f3dedb59d0df7c5d5feced548513488e8eb3fe8134cb"
  },
  "kernelspec": {
   "display_name": "Python 3.9.10 ('transformers4')",
   "language": "python",
   "name": "python3"
  },
  "language_info": {
   "codemirror_mode": {
    "name": "ipython",
    "version": 3
   },
   "file_extension": ".py",
   "mimetype": "text/x-python",
   "name": "python",
   "nbconvert_exporter": "python",
   "pygments_lexer": "ipython3",
   "version": "3.9.10"
  },
  "orig_nbformat": 4
 },
 "nbformat": 4,
 "nbformat_minor": 2
}
