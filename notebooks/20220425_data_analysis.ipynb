{
 "cells": [
  {
   "cell_type": "code",
   "execution_count": 1,
   "metadata": {},
   "outputs": [],
   "source": [
    "import pickle \n",
    "import torch \n",
    "import matplotlib.pyplot as plt\n",
    "from tqdm import tqdm\n",
    "import librosa \n",
    "import numpy as np"
   ]
  },
  {
   "cell_type": "code",
   "execution_count": 2,
   "metadata": {},
   "outputs": [],
   "source": [
    "ckpt_path = \"../data/LibriSpeech/cache/dev-clean/baseline.pkl\"\n",
    "with open(ckpt_path, \"rb\") as f:\n",
    "    checkpoint = pickle.load(f)\n",
    "    utterances = checkpoint[\"anonymized_utterances\"]\n",
    "    speaker_ids = checkpoint[\"speaker_ids\"]"
   ]
  },
  {
   "cell_type": "code",
   "execution_count": 4,
   "metadata": {},
   "outputs": [
    {
     "data": {
      "text/plain": [
       "(2703, 40)"
      ]
     },
     "execution_count": 4,
     "metadata": {},
     "output_type": "execute_result"
    }
   ],
   "source": [
    "len(utterances), len(speaker_ids)"
   ]
  },
  {
   "cell_type": "code",
   "execution_count": 3,
   "metadata": {},
   "outputs": [
    {
     "name": "stderr",
     "output_type": "stream",
     "text": [
      "100%|██████████| 2703/2703 [00:19<00:00, 137.99it/s]"
     ]
    },
    {
     "name": "stdout",
     "output_type": "stream",
     "text": [
      "Mean: 224.76, std 146.71\n"
     ]
    },
    {
     "name": "stderr",
     "output_type": "stream",
     "text": [
      "\n"
     ]
    },
    {
     "data": {
      "image/png": "[encoded data removed]",
      "text/plain": [
       "<Figure size 432x288 with 1 Axes>"
      ]
     },
     "metadata": {
      "needs_background": "light"
     },
     "output_type": "display_data"
    }
   ],
   "source": [
    "SAMPLE_RATE = 16000\n",
    "\n",
    "def count_mfcc_lens(utterances):\n",
    "    lengths = []\n",
    "    for utt in tqdm(utterances):\n",
    "        y = utt.numpy().T  # (1, T)\n",
    "        #print(y.shape)\n",
    "        \n",
    "        mfcc = librosa.feature.mfcc(y=y, sr=SAMPLE_RATE, n_mfcc=20)\n",
    "        lengths.append(mfcc.shape[-1])\n",
    "    return lengths \n",
    "\n",
    "lengths = count_mfcc_lens(utterances)\n",
    "print(\"Mean: {:.2f}, std {:.2f}\".format(\n",
    "    np.mean(lengths), np.std(lengths)\n",
    "))\n",
    "plt.hist(lengths, bins=20)\n",
    "plt.xlabel(\"Audio length in MFCC frames\")\n",
    "plt.ylabel(\"Counts\")\n",
    "plt.title(\"Histogram plot of audio lengths\")\n",
    "plt.savefig(\"audio_histogram.svg\")"
   ]
  },
  {
   "cell_type": "code",
   "execution_count": 6,
   "metadata": {},
   "outputs": [
    {
     "name": "stdout",
     "output_type": "stream",
     "text": [
      "2699 0.998520162782094\n"
     ]
    }
   ],
   "source": [
    "long_counts = (np.array(lengths) > 50).sum()\n",
    "print(long_counts, long_counts / len(lengths))"
   ]
  },
  {
   "cell_type": "code",
   "execution_count": null,
   "metadata": {},
   "outputs": [],
   "source": []
  }
 ],
 "metadata": {
  "interpreter": {
   "hash": "3c245645368b405f9e41f3dedb59d0df7c5d5feced548513488e8eb3fe8134cb"
  },
  "kernelspec": {
   "display_name": "Python 3.9.10 ('transformers4')",
   "language": "python",
   "name": "python3"
  },
  "language_info": {
   "codemirror_mode": {
    "name": "ipython",
    "version": 3
   },
   "file_extension": ".py",
   "mimetype": "text/x-python",
   "name": "python",
   "nbconvert_exporter": "python",
   "pygments_lexer": "ipython3",
   "version": "3.9.10"
  },
  "orig_nbformat": 4
 },
 "nbformat": 4,
 "nbformat_minor": 2
}
